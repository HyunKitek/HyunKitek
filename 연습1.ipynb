{
  "nbformat": 4,
  "nbformat_minor": 0,
  "metadata": {
    "colab": {
      "name": "연습1.ipynb",
      "provenance": [],
      "toc_visible": true,
      "authorship_tag": "ABX9TyMtCpVYZdVj9nNohV34oou7",
      "include_colab_link": true
    },
    "kernelspec": {
      "name": "python3",
      "display_name": "Python 3"
    },
    "language_info": {
      "name": "python"
    }
  },
  "cells": [
    {
      "cell_type": "markdown",
      "metadata": {
        "id": "view-in-github",
        "colab_type": "text"
      },
      "source": [
        "<a href=\"https://colab.research.google.com/github/HyunKitek/HyunKitek/blob/main/%EC%97%B0%EC%8A%B51.ipynb\" target=\"_parent\"><img src=\"https://colab.research.google.com/assets/colab-badge.svg\" alt=\"Open In Colab\"/></a>"
      ]
    },
    {
      "cell_type": "code",
      "metadata": {
        "colab": {
          "base_uri": "https://localhost:8080/"
        },
        "id": "4sHVfqaI9fLu",
        "outputId": "ede175af-4191-4e6a-f387-d602ca58f664"
      },
      "source": [
        "type({})"
      ],
      "execution_count": null,
      "outputs": [
        {
          "output_type": "execute_result",
          "data": {
            "text/plain": [
              "dict"
            ]
          },
          "metadata": {},
          "execution_count": 1
        }
      ]
    },
    {
      "cell_type": "code",
      "metadata": {
        "colab": {
          "base_uri": "https://localhost:8080/"
        },
        "id": "RqvoG1TG9t7d",
        "outputId": "f0b3a168-5c2d-4e51-f061-67ff1868b568"
      },
      "source": [
        "재고 = {'고구마' : 2345, '감자' : 3456 , '쪽파' : 9877}\n",
        "재고"
      ],
      "execution_count": null,
      "outputs": [
        {
          "output_type": "execute_result",
          "data": {
            "text/plain": [
              "{'감자': 3456, '고구마': 2345, '쪽파': 9877}"
            ]
          },
          "metadata": {},
          "execution_count": 4
        }
      ]
    },
    {
      "cell_type": "code",
      "metadata": {
        "colab": {
          "base_uri": "https://localhost:8080/"
        },
        "id": "NslvAcgH96BB",
        "outputId": "497dc658-5762-4ba8-8500-ce6a8e156bc3"
      },
      "source": [
        "재고['고구마']"
      ],
      "execution_count": null,
      "outputs": [
        {
          "output_type": "execute_result",
          "data": {
            "text/plain": [
              "2345"
            ]
          },
          "metadata": {},
          "execution_count": 5
        }
      ]
    },
    {
      "cell_type": "code",
      "metadata": {
        "colab": {
          "base_uri": "https://localhost:8080/"
        },
        "id": "MzP896nD-KfH",
        "outputId": "9594ff2d-b207-453b-bc8f-0438639e43a9"
      },
      "source": [
        "재고['쪽파']"
      ],
      "execution_count": null,
      "outputs": [
        {
          "output_type": "execute_result",
          "data": {
            "text/plain": [
              "9877"
            ]
          },
          "metadata": {},
          "execution_count": 9
        }
      ]
    },
    {
      "cell_type": "code",
      "metadata": {
        "colab": {
          "base_uri": "https://localhost:8080/"
        },
        "id": "btGg0IDT-PI2",
        "outputId": "c10e3efd-956f-456c-fac0-bde2aed5ee82"
      },
      "source": [
        "sorted(재고)"
      ],
      "execution_count": null,
      "outputs": [
        {
          "output_type": "execute_result",
          "data": {
            "text/plain": [
              "['감자', '고구마', '쪽파']"
            ]
          },
          "metadata": {},
          "execution_count": 10
        }
      ]
    },
    {
      "cell_type": "code",
      "metadata": {
        "colab": {
          "base_uri": "https://localhost:8080/"
        },
        "id": "djTdiVGl-oqE",
        "outputId": "fe503681-3df1-4c4f-ed85-79003a92cec2"
      },
      "source": [
        "재고.keys()"
      ],
      "execution_count": null,
      "outputs": [
        {
          "output_type": "execute_result",
          "data": {
            "text/plain": [
              "dict_keys(['고구마', '감자', '쪽파'])"
            ]
          },
          "metadata": {},
          "execution_count": 12
        }
      ]
    },
    {
      "cell_type": "code",
      "metadata": {
        "colab": {
          "base_uri": "https://localhost:8080/"
        },
        "id": "X6pfG-Fd-sGQ",
        "outputId": "6247dc9a-7df6-4d47-ca6c-ead1827527b1"
      },
      "source": [
        "재고.values()"
      ],
      "execution_count": null,
      "outputs": [
        {
          "output_type": "execute_result",
          "data": {
            "text/plain": [
              "dict_values([2345, 3456, 9877])"
            ]
          },
          "metadata": {},
          "execution_count": 13
        }
      ]
    },
    {
      "cell_type": "code",
      "metadata": {
        "colab": {
          "base_uri": "https://localhost:8080/"
        },
        "id": "55Wmjopc-wyk",
        "outputId": "c69cfc9e-1a63-47e0-9cef-32b89b48f806"
      },
      "source": [
        " for i in range(1,6) :\n",
        "    print(\"o\"*i)"
      ],
      "execution_count": null,
      "outputs": [
        {
          "output_type": "stream",
          "name": "stdout",
          "text": [
            "o\n",
            "oo\n",
            "ooo\n",
            "oooo\n",
            "ooooo\n"
          ]
        }
      ]
    },
    {
      "cell_type": "code",
      "metadata": {
        "colab": {
          "base_uri": "https://localhost:8080/"
        },
        "id": "9uXKCeEnCJ2J",
        "outputId": "5cbf14f9-90da-496e-d275-218bcce4d9f7"
      },
      "source": [
        "for i in range(1,10) :\n",
        "    print(\"$\"*i)"
      ],
      "execution_count": null,
      "outputs": [
        {
          "output_type": "stream",
          "name": "stdout",
          "text": [
            "$\n",
            "$$\n",
            "$$$\n",
            "$$$$\n",
            "$$$$$\n",
            "$$$$$$\n",
            "$$$$$$$\n",
            "$$$$$$$$\n",
            "$$$$$$$$$\n"
          ]
        }
      ]
    },
    {
      "cell_type": "code",
      "metadata": {
        "colab": {
          "base_uri": "https://localhost:8080/"
        },
        "id": "8ZGiU6XMCSYW",
        "outputId": "8e245e71-363e-431c-8381-4fdf8c9e66a2"
      },
      "source": [
        "for i in range(1,10) :\n",
        "    print(\"$\"*(8-i))"
      ],
      "execution_count": null,
      "outputs": [
        {
          "output_type": "stream",
          "name": "stdout",
          "text": [
            "$$$$$$$\n",
            "$$$$$$\n",
            "$$$$$\n",
            "$$$$\n",
            "$$$\n",
            "$$\n",
            "$\n",
            "\n",
            "\n"
          ]
        }
      ]
    },
    {
      "cell_type": "code",
      "metadata": {
        "colab": {
          "base_uri": "https://localhost:8080/"
        },
        "id": "6jaqg3xrCcpr",
        "outputId": "2638ac04-6c4c-433b-f44a-9845ffb1037d"
      },
      "source": [
        "x = int(input(\"숫자를 입력하시오 :\"))\n",
        "if x > 0 :\n",
        "    print(\"양수\")\n",
        "elif x==0 :\n",
        "    print(\"0\")\n",
        "else :\n",
        "    print(\"음수\")"
      ],
      "execution_count": null,
      "outputs": [
        {
          "output_type": "stream",
          "name": "stdout",
          "text": [
            "숫자를 입력하시오 :-23\n",
            "음수\n"
          ]
        }
      ]
    },
    {
      "cell_type": "code",
      "metadata": {
        "id": "HWS8konTDM1f"
      },
      "source": [
        " "
      ],
      "execution_count": null,
      "outputs": []
    }
  ]
}